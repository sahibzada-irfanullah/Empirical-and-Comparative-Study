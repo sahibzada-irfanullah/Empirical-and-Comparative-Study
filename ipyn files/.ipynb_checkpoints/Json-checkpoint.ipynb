{
 "cells": [
  {
   "cell_type": "code",
   "execution_count": 28,
   "metadata": {},
   "outputs": [],
   "source": [
    "import json\n",
    "import torch\n",
    "\n"
   ]
  },
  {
   "cell_type": "code",
   "execution_count": 29,
   "metadata": {},
   "outputs": [],
   "source": [
    "a = 1\n",
    "weight1 = torch.tensor([[a, a], [a, a]])\n",
    "\n",
    "a = 11\n",
    "bias1 = torch.tensor([[a, a], [a, a]])\n",
    "\n",
    "a = 2\n",
    "weight2 = torch.tensor([[a, a], [a, a]])\n",
    "\n",
    "a = 22\n",
    "bias2 = torch.tensor([[a, a], [a, a]])"
   ]
  },
  {
   "cell_type": "code",
   "execution_count": 36,
   "metadata": {},
   "outputs": [
    {
     "data": {
      "text/plain": [
       "tensor([[2, 2],\n",
       "        [2, 2]])"
      ]
     },
     "execution_count": 36,
     "metadata": {},
     "output_type": "execute_result"
    }
   ],
   "source": [
    "weight2\n"
   ]
  },
  {
   "cell_type": "code",
   "execution_count": 101,
   "metadata": {},
   "outputs": [],
   "source": [
    "\n",
    "parameter_layer_1 = {\n",
    "    \"layer1\": {\n",
    "        \"weight\": weight1.numpy(),\n",
    "        \"bias\": bias1.numpy()\n",
    "    } \n",
    "}\n",
    "\n",
    "\n",
    "parameter_layer_2 = {\n",
    "    \n",
    "    \"layer2\": {\n",
    "        \"weight\": weight2,\n",
    "        \"bias\": bias2\n",
    "    }\n",
    "           \n",
    "}"
   ]
  },
  {
   "cell_type": "code",
   "execution_count": 80,
   "metadata": {},
   "outputs": [
    {
     "data": {
      "text/plain": [
       "numpy.ndarray"
      ]
     },
     "execution_count": 80,
     "metadata": {},
     "output_type": "execute_result"
    }
   ],
   "source": [
    "type(parameter_layer_1[\"layer1\"][\"weight\"])"
   ]
  },
  {
   "cell_type": "code",
   "execution_count": 106,
   "metadata": {},
   "outputs": [],
   "source": [
    "\n",
    "def dumb_weights(filename, parameters):\n",
    "    torch.save(parameters,   filename + '.pt')\n",
    "    print(\"Model has been written successfully:\", filename)\n",
    "    \n",
    "    \n",
    "def load_weights(filename):\n",
    "    data = torch.load(filename + \".pt\")\n",
    "    print(\"Model has been loaded successfully:\", filename)\n",
    "    return data\n",
    "\n",
    "# filename = \"model_layer1\"\n",
    "# dumb_weights(filename, parameter_layer_1)\n",
    "\n",
    "# filename = \"model_layer2.json\"\n",
    "# dumb_weights(filename, layer2)"
   ]
  },
  {
   "cell_type": "code",
   "execution_count": 89,
   "metadata": {},
   "outputs": [
    {
     "data": {
      "text/plain": [
       "{'weight': array([[1, 1],\n",
       "        [1, 1]], dtype=int64),\n",
       " 'bias': array([[11, 11],\n",
       "        [11, 11]], dtype=int64)}"
      ]
     },
     "execution_count": 89,
     "metadata": {},
     "output_type": "execute_result"
    }
   ],
   "source": [
    "# d = {'a': torch.tensor([1., 2.]), 'b': torch.tensor([3., 4.])}\n",
    "torch.save(parameter_layer_1, 'tensor_dict.pt')\n",
    "test = torch.load('tensor_dict.pt')\n",
    "test[\"layer1\"]"
   ]
  },
  {
   "cell_type": "code",
   "execution_count": 107,
   "metadata": {},
   "outputs": [
    {
     "name": "stdout",
     "output_type": "stream",
     "text": [
      "Model has been loaded successfully: model_layer1\n"
     ]
    },
    {
     "data": {
      "text/plain": [
       "{'layer1': {'weight': array([[1, 1],\n",
       "         [1, 1]], dtype=int64),\n",
       "  'bias': array([[11, 11],\n",
       "         [11, 11]], dtype=int64)}}"
      ]
     },
     "execution_count": 107,
     "metadata": {},
     "output_type": "execute_result"
    }
   ],
   "source": [
    "filename = \"model_layer1\"\n",
    "load_weights(filename)\n",
    "\n"
   ]
  },
  {
   "cell_type": "code",
   "execution_count": 13,
   "metadata": {},
   "outputs": [],
   "source": []
  },
  {
   "cell_type": "code",
   "execution_count": 17,
   "metadata": {},
   "outputs": [
    {
     "data": {
      "text/plain": [
       "'Betelgeusian'"
      ]
     },
     "execution_count": 17,
     "metadata": {},
     "output_type": "execute_result"
    }
   ],
   "source": [
    "data['layer1']['bias']"
   ]
  }
 ],
 "metadata": {
  "kernelspec": {
   "display_name": "Python 3",
   "language": "python",
   "name": "python3"
  },
  "language_info": {
   "codemirror_mode": {
    "name": "ipython",
    "version": 3
   },
   "file_extension": ".py",
   "mimetype": "text/x-python",
   "name": "python",
   "nbconvert_exporter": "python",
   "pygments_lexer": "ipython3",
   "version": "3.7.5"
  }
 },
 "nbformat": 4,
 "nbformat_minor": 1
}

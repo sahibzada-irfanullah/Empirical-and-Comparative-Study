{
 "cells": [
  {
   "cell_type": "code",
   "execution_count": 1,
   "metadata": {},
   "outputs": [
    {
     "name": "stdout",
     "output_type": "stream",
     "text": [
      "<class 'list'>\n"
     ]
    },
    {
     "ename": "UnsupportedOperation",
     "evalue": "not readable",
     "output_type": "error",
     "traceback": [
      "\u001b[0;31m---------------------------------------------------------------------------\u001b[0m",
      "\u001b[0;31mUnsupportedOperation\u001b[0m                      Traceback (most recent call last)",
      "\u001b[0;32m<ipython-input-1-44663db85260>\u001b[0m in \u001b[0;36m<module>\u001b[0;34m()\u001b[0m\n\u001b[1;32m      8\u001b[0m \u001b[0;31m#     json.dump(student, fp)\u001b[0m\u001b[0;34m\u001b[0m\u001b[0;34m\u001b[0m\u001b[0m\n\u001b[1;32m      9\u001b[0m \u001b[0;32mwith\u001b[0m \u001b[0mopen\u001b[0m\u001b[0;34m(\u001b[0m\u001b[0;34m'result.json'\u001b[0m\u001b[0;34m,\u001b[0m \u001b[0;34m'a'\u001b[0m\u001b[0;34m)\u001b[0m \u001b[0;32mas\u001b[0m \u001b[0mf\u001b[0m\u001b[0;34m:\u001b[0m\u001b[0;34m\u001b[0m\u001b[0m\n\u001b[0;32m---> 10\u001b[0;31m      \u001b[0md\u001b[0m \u001b[0;34m=\u001b[0m \u001b[0mjson\u001b[0m\u001b[0;34m.\u001b[0m\u001b[0mload\u001b[0m\u001b[0;34m(\u001b[0m\u001b[0mf\u001b[0m\u001b[0;34m)\u001b[0m\u001b[0;34m\u001b[0m\u001b[0m\n\u001b[0m\u001b[1;32m     11\u001b[0m \u001b[0;32mfor\u001b[0m \u001b[0mi\u001b[0m \u001b[0;32min\u001b[0m \u001b[0md\u001b[0m\u001b[0;34m:\u001b[0m\u001b[0;34m\u001b[0m\u001b[0m\n\u001b[1;32m     12\u001b[0m   \u001b[0mprint\u001b[0m\u001b[0;34m(\u001b[0m\u001b[0mi\u001b[0m\u001b[0;34m)\u001b[0m\u001b[0;34m\u001b[0m\u001b[0m\n",
      "\u001b[0;32m/home/sahibzada/pythonEnvs/ipythonNB/lib/python3.6/site-packages/simplejson/__init__.py\u001b[0m in \u001b[0;36mload\u001b[0;34m(fp, encoding, cls, object_hook, parse_float, parse_int, parse_constant, object_pairs_hook, use_decimal, namedtuple_as_object, tuple_as_array, **kw)\u001b[0m\n\u001b[1;32m    453\u001b[0m \u001b[0;34m\u001b[0m\u001b[0m\n\u001b[1;32m    454\u001b[0m     \"\"\"\n\u001b[0;32m--> 455\u001b[0;31m     return loads(fp.read(),\n\u001b[0m\u001b[1;32m    456\u001b[0m         \u001b[0mencoding\u001b[0m\u001b[0;34m=\u001b[0m\u001b[0mencoding\u001b[0m\u001b[0;34m,\u001b[0m \u001b[0mcls\u001b[0m\u001b[0;34m=\u001b[0m\u001b[0mcls\u001b[0m\u001b[0;34m,\u001b[0m \u001b[0mobject_hook\u001b[0m\u001b[0;34m=\u001b[0m\u001b[0mobject_hook\u001b[0m\u001b[0;34m,\u001b[0m\u001b[0;34m\u001b[0m\u001b[0m\n\u001b[1;32m    457\u001b[0m         \u001b[0mparse_float\u001b[0m\u001b[0;34m=\u001b[0m\u001b[0mparse_float\u001b[0m\u001b[0;34m,\u001b[0m \u001b[0mparse_int\u001b[0m\u001b[0;34m=\u001b[0m\u001b[0mparse_int\u001b[0m\u001b[0;34m,\u001b[0m\u001b[0;34m\u001b[0m\u001b[0m\n",
      "\u001b[0;31mUnsupportedOperation\u001b[0m: not readable"
     ]
    }
   ],
   "source": [
    "import simplejson as json\n",
    "student = [{\"favorited\": False, \"contributors\": None, \"truncated\": False, \"text\": \"News: History in the Making as #PTI Elects a Tailor as President of Kohat District https://t.co/NU29x7N3 #Pakistan #PTIIntraPartyElections\", \"possibly_sensitive\": False, \"is_quote_status\": False, \"in_reply_to_status_id\": None, \"user\": {\"follow_request_sent\": False, \"has_extended_profile\": False, \"profile_use_background_image\": True, \"default_profile_image\": False, \"id\": 127483019, \"profile_background_image_url_https\": \"https://pbs.twimg.com/profile_background_images/378800000095264967/23dea49346d93f01e00185071d879819.png\", \"verified\": True, \"translator_type\": \"regular\", \"profile_text_color\": \"333333\", \"profile_image_url_https\": \"https://pbs.twimg.com/profile_images/869663872143298560/KvesRl4I_normal.jpg\", \"profile_sidebar_fill_color\": \"EDFFED\", \"entities\": {\"url\": {\"urls\": [{\"url\": \"https://t.co/xo3qCdRqek\", \"indices\": [0, 23], \"expanded_url\": \"http://www.insaf.pk\", \"display_url\": \"insaf.pk\"}]}, \"description\": {\"urls\": []}}, \"followers_count\": 3131454, \"profile_sidebar_border_color\": \"000000\", \"id_str\": \"127483019\", \"profile_background_color\": \"044715\", \"listed_count\": 1669, \"is_translation_enabled\": False, \"utc_offset\": 18000, \"statuses_count\": 162758, \"description\": \"Official twitter account of Pakistan Tehreek-e-Insaf.\", \"friends_count\": 2018, \"location\": \"Pakistan\", \"profile_link_color\": \"43AB19\", \"profile_image_url\": \"http://pbs.twimg.com/profile_images/869663872143298560/KvesRl4I_normal.jpg\", \"following\": False, \"geo_enabled\": False, \"profile_banner_url\": \"https://pbs.twimg.com/profile_banners/127483019/1503314258\", \"profile_background_image_url\": \"http://pbs.twimg.com/profile_background_images/378800000095264967/23dea49346d93f01e00185071d879819.png\", \"screen_name\": \"PTIofficial\", \"lang\": \"en\", \"profile_background_tile\": False, \"favourites_count\": 1496, \"name\": \"PTI\", \"notifications\": False, \"url\": \"https://t.co/xo3qCdRqek\", \"created_at\": \"Mon Mar 29 10:24:45 +0000 2010\", \"contributors_enabled\": False, \"time_zone\": \"Islamabad\", \"protected\": False, \"default_profile\": False, \"is_translator\": False}, \"geo\": None, \"id\": 297127546787606528, \"favorite_count\": 5, \"lang\": \"en\", \"entities\": {\"symbols\": [], \"user_mentions\": [], \"hashtags\": [{\"indices\": [31, 35], \"text\": \"PTI\"}, {\"indices\": [105, 114], \"text\": \"Pakistan\"}, {\"indices\": [115, 138], \"text\": \"PTIIntraPartyElections\"}], \"urls\": [{\"url\": \"https://t.co/NU29x7N3\", \"indices\": [83, 104], \"expanded_url\": \"https://www.insaf.pk:443/News/tabid/60/articleType/ArticleView/articleId/14911/History-in-the-making-as-PTI-Elects-a-tailor-as-its-President-of-Kohat-District.aspx\", \"display_url\": \"insaf.pk/News/tabid/60/\\u2026\"}]}, \"created_at\": \"Thu Jan 31 23:41:42 +0000 2013\", \"retweeted\": False, \"coordinates\": None, \"in_reply_to_user_id_str\": None, \"source\": \"<a href=\\\"https://dev.twitter.com/docs/tfw\\\" rel=\\\"nofollow\\\">Twitter for Websites</a>\", \"in_reply_to_status_id_str\": None, \"in_reply_to_screen_name\": None, \"in_reply_to_user_id\": None, \"place\": None, \"retweet_count\": 13, \"id_str\": \"297127546787606528\"},\n",
    "{\"favorited\": False, \"contributors\": None, \"truncated\": False, \"text\": \"News: History in the Making as #PTI Elects a Tailor as President of Kohat District https://t.co/NU29x7N3 #Pakistan #PTIIntraPartyElections\", \"possibly_sensitive\": False, \"is_quote_status\": False, \"in_reply_to_status_id\": None, \"user\": {\"follow_request_sent\": False, \"has_extended_profile\": False, \"profile_use_background_image\": True, \"default_profile_image\": False, \"id\": 127483019, \"profile_background_image_url_https\": \"https://pbs.twimg.com/profile_background_images/378800000095264967/23dea49346d93f01e00185071d879819.png\", \"verified\": True, \"translator_type\": \"regular\", \"profile_text_color\": \"333333\", \"profile_image_url_https\": \"https://pbs.twimg.com/profile_images/869663872143298560/KvesRl4I_normal.jpg\", \"profile_sidebar_fill_color\": \"EDFFED\", \"entities\": {\"url\": {\"urls\": [{\"url\": \"https://t.co/xo3qCdRqek\", \"indices\": [0, 23], \"expanded_url\": \"http://www.insaf.pk\", \"display_url\": \"insaf.pk\"}]}, \"description\": {\"urls\": []}}, \"followers_count\": 3131454, \"profile_sidebar_border_color\": \"000000\", \"id_str\": \"127483019\", \"profile_background_color\": \"044715\", \"listed_count\": 1669, \"is_translation_enabled\": False, \"utc_offset\": 18000, \"statuses_count\": 162758, \"description\": \"Official twitter account of Pakistan Tehreek-e-Insaf.\", \"friends_count\": 2018, \"location\": \"Pakistan\", \"profile_link_color\": \"43AB19\", \"profile_image_url\": \"http://pbs.twimg.com/profile_images/869663872143298560/KvesRl4I_normal.jpg\", \"following\": False, \"geo_enabled\": False, \"profile_banner_url\": \"https://pbs.twimg.com/profile_banners/127483019/1503314258\", \"profile_background_image_url\": \"http://pbs.twimg.com/profile_background_images/378800000095264967/23dea49346d93f01e00185071d879819.png\", \"screen_name\": \"PTIofficial\", \"lang\": \"en\", \"profile_background_tile\": False, \"favourites_count\": 1496, \"name\": \"PTI\", \"notifications\": False, \"url\": \"https://t.co/xo3qCdRqek\", \"created_at\": \"Mon Mar 29 10:24:45 +0000 2010\", \"contributors_enabled\": False, \"time_zone\": \"Islamabad\", \"protected\": False, \"default_profile\": False, \"is_translator\": False}, \"geo\": None, \"id\": 297127546787606528, \"favorite_count\": 5, \"lang\": \"en\", \"entities\": {\"symbols\": [], \"user_mentions\": [], \"hashtags\": [{\"indices\": [31, 35], \"text\": \"PTI\"}, {\"indices\": [105, 114], \"text\": \"Pakistan\"}, {\"indices\": [115, 138], \"text\": \"PTIIntraPartyElections\"}], \"urls\": [{\"url\": \"https://t.co/NU29x7N3\", \"indices\": [83, 104], \"expanded_url\": \"https://www.insaf.pk:443/News/tabid/60/articleType/ArticleView/articleId/14911/History-in-the-making-as-PTI-Elects-a-tailor-as-its-President-of-Kohat-District.aspx\", \"display_url\": \"insaf.pk/News/tabid/60/\\u2026\"}]}, \"created_at\": \"Thu Jan 31 23:41:42 +0000 2013\", \"retweeted\": False, \"coordinates\": None, \"in_reply_to_user_id_str\": None, \"source\": \"<a href=\\\"https://dev.twitter.com/docs/tfw\\\" rel=\\\"nofollow\\\">Twitter for Websites</a>\", \"in_reply_to_status_id_str\": None, \"in_reply_to_screen_name\": None, \"in_reply_to_user_id\": None, \"place\": None, \"retweet_count\": 13, \"id_str\": \"297127546787606528\"},\n",
    "{\"favorited\": False, \"contributors\": None, \"truncated\": False, \"text\": \"News: History in the Making as #PTI Elects a Tailor as President of Kohat District https://t.co/NU29x7N3 #Pakistan #PTIIntraPartyElections\", \"possibly_sensitive\": False, \"is_quote_status\": False, \"in_reply_to_status_id\": None, \"user\": {\"follow_request_sent\": False, \"has_extended_profile\": False, \"profile_use_background_image\": True, \"default_profile_image\": False, \"id\": 127483019, \"profile_background_image_url_https\": \"https://pbs.twimg.com/profile_background_images/378800000095264967/23dea49346d93f01e00185071d879819.png\", \"verified\": True, \"translator_type\": \"regular\", \"profile_text_color\": \"333333\", \"profile_image_url_https\": \"https://pbs.twimg.com/profile_images/869663872143298560/KvesRl4I_normal.jpg\", \"profile_sidebar_fill_color\": \"EDFFED\", \"entities\": {\"url\": {\"urls\": [{\"url\": \"https://t.co/xo3qCdRqek\", \"indices\": [0, 23], \"expanded_url\": \"http://www.insaf.pk\", \"display_url\": \"insaf.pk\"}]}, \"description\": {\"urls\": []}}, \"followers_count\": 3131454, \"profile_sidebar_border_color\": \"000000\", \"id_str\": \"127483019\", \"profile_background_color\": \"044715\", \"listed_count\": 1669, \"is_translation_enabled\": False, \"utc_offset\": 18000, \"statuses_count\": 162758, \"description\": \"Official twitter account of Pakistan Tehreek-e-Insaf.\", \"friends_count\": 2018, \"location\": \"Pakistan\", \"profile_link_color\": \"43AB19\", \"profile_image_url\": \"http://pbs.twimg.com/profile_images/869663872143298560/KvesRl4I_normal.jpg\", \"following\": False, \"geo_enabled\": False, \"profile_banner_url\": \"https://pbs.twimg.com/profile_banners/127483019/1503314258\", \"profile_background_image_url\": \"http://pbs.twimg.com/profile_background_images/378800000095264967/23dea49346d93f01e00185071d879819.png\", \"screen_name\": \"PTIofficial\", \"lang\": \"en\", \"profile_background_tile\": False, \"favourites_count\": 1496, \"name\": \"PTI\", \"notifications\": False, \"url\": \"https://t.co/xo3qCdRqek\", \"created_at\": \"Mon Mar 29 10:24:45 +0000 2010\", \"contributors_enabled\": False, \"time_zone\": \"Islamabad\", \"protected\": False, \"default_profile\": False, \"is_translator\": False}, \"geo\": None, \"id\": 297127546787606528, \"favorite_count\": 5, \"lang\": \"en\", \"entities\": {\"symbols\": [], \"user_mentions\": [], \"hashtags\": [{\"indices\": [31, 35], \"text\": \"PTI\"}, {\"indices\": [105, 114], \"text\": \"Pakistan\"}, {\"indices\": [115, 138], \"text\": \"PTIIntraPartyElections\"}], \"urls\": [{\"url\": \"https://t.co/NU29x7N3\", \"indices\": [83, 104], \"expanded_url\": \"https://www.insaf.pk:443/News/tabid/60/articleType/ArticleView/articleId/14911/History-in-the-making-as-PTI-Elects-a-tailor-as-its-President-of-Kohat-District.aspx\", \"display_url\": \"insaf.pk/News/tabid/60/\\u2026\"}]}, \"created_at\": \"Thu Jan 31 23:41:42 +0000 2013\", \"retweeted\": False, \"coordinates\": None, \"in_reply_to_user_id_str\": None, \"source\": \"<a href=\\\"https://dev.twitter.com/docs/tfw\\\" rel=\\\"nofollow\\\">Twitter for Websites</a>\", \"in_reply_to_status_id_str\": None, \"in_reply_to_screen_name\": None, \"in_reply_to_user_id\": None, \"place\": None, \"retweet_count\": 13, \"id_str\": \"297127546787606528\"},\n",
    "{\"favorited\": False, \"contributors\": None, \"truncated\": False, \"text\": \"News: History in the Making as #PTI Elects a Tailor as President of Kohat District https://t.co/NU29x7N3 #Pakistan #PTIIntraPartyElections\", \"possibly_sensitive\": False, \"is_quote_status\": False, \"in_reply_to_status_id\": None, \"user\": {\"follow_request_sent\": False, \"has_extended_profile\": False, \"profile_use_background_image\": True, \"default_profile_image\": False, \"id\": 127483019, \"profile_background_image_url_https\": \"https://pbs.twimg.com/profile_background_images/378800000095264967/23dea49346d93f01e00185071d879819.png\", \"verified\": True, \"translator_type\": \"regular\", \"profile_text_color\": \"333333\", \"profile_image_url_https\": \"https://pbs.twimg.com/profile_images/869663872143298560/KvesRl4I_normal.jpg\", \"profile_sidebar_fill_color\": \"EDFFED\", \"entities\": {\"url\": {\"urls\": [{\"url\": \"https://t.co/xo3qCdRqek\", \"indices\": [0, 23], \"expanded_url\": \"http://www.insaf.pk\", \"display_url\": \"insaf.pk\"}]}, \"description\": {\"urls\": []}}, \"followers_count\": 3131454, \"profile_sidebar_border_color\": \"000000\", \"id_str\": \"127483019\", \"profile_background_color\": \"044715\", \"listed_count\": 1669, \"is_translation_enabled\": False, \"utc_offset\": 18000, \"statuses_count\": 162758, \"description\": \"Official twitter account of Pakistan Tehreek-e-Insaf.\", \"friends_count\": 2018, \"location\": \"Pakistan\", \"profile_link_color\": \"43AB19\", \"profile_image_url\": \"http://pbs.twimg.com/profile_images/869663872143298560/KvesRl4I_normal.jpg\", \"following\": False, \"geo_enabled\": False, \"profile_banner_url\": \"https://pbs.twimg.com/profile_banners/127483019/1503314258\", \"profile_background_image_url\": \"http://pbs.twimg.com/profile_background_images/378800000095264967/23dea49346d93f01e00185071d879819.png\", \"screen_name\": \"PTIofficial\", \"lang\": \"en\", \"profile_background_tile\": False, \"favourites_count\": 1496, \"name\": \"PTI\", \"notifications\": False, \"url\": \"https://t.co/xo3qCdRqek\", \"created_at\": \"Mon Mar 29 10:24:45 +0000 2010\", \"contributors_enabled\": False, \"time_zone\": \"Islamabad\", \"protected\": False, \"default_profile\": False, \"is_translator\": False}, \"geo\": None, \"id\": 297127546787606528, \"favorite_count\": 5, \"lang\": \"en\", \"entities\": {\"symbols\": [], \"user_mentions\": [], \"hashtags\": [{\"indices\": [31, 35], \"text\": \"PTI\"}, {\"indices\": [105, 114], \"text\": \"Pakistan\"}, {\"indices\": [115, 138], \"text\": \"PTIIntraPartyElections\"}], \"urls\": [{\"url\": \"https://t.co/NU29x7N3\", \"indices\": [83, 104], \"expanded_url\": \"https://www.insaf.pk:443/News/tabid/60/articleType/ArticleView/articleId/14911/History-in-the-making-as-PTI-Elects-a-tailor-as-its-President-of-Kohat-District.aspx\", \"display_url\": \"insaf.pk/News/tabid/60/\\u2026\"}]}, \"created_at\": \"Thu Jan 31 23:41:42 +0000 2013\", \"retweeted\": False, \"coordinates\": None, \"in_reply_to_user_id_str\": None, \"source\": \"<a href=\\\"https://dev.twitter.com/docs/tfw\\\" rel=\\\"nofollow\\\">Twitter for Websites</a>\", \"in_reply_to_status_id_str\": None, \"in_reply_to_screen_name\": None, \"in_reply_to_user_id\": None, \"place\": None, \"retweet_count\": 13, \"id_str\": \"297127546787606528\"}]\n",
    "print(type(student));\n",
    "# with open('result.json', 'w') as fp:\n",
    "#     json.dump(student, fp)\n",
    "with open('result.json', 'a') as f:\n",
    "     d = json.load(f)\n",
    "for i in d:\n",
    "  print(i)\n",
    "  print(type(i))\n",
    "print('finished')"
   ]
  },
  {
   "cell_type": "code",
   "execution_count": 2,
   "metadata": {},
   "outputs": [
    {
     "ename": "ModuleNotFoundError",
     "evalue": "No module named 'simplejson'",
     "output_type": "error",
     "traceback": [
      "\u001b[1;31m---------------------------------------------------------------------------\u001b[0m",
      "\u001b[1;31mModuleNotFoundError\u001b[0m                       Traceback (most recent call last)",
      "\u001b[1;32m<ipython-input-2-9e4b905cb3bb>\u001b[0m in \u001b[0;36m<module>\u001b[1;34m\u001b[0m\n\u001b[1;32m----> 1\u001b[1;33m \u001b[1;32mimport\u001b[0m \u001b[0msimplejson\u001b[0m \u001b[1;32mas\u001b[0m \u001b[0mjson\u001b[0m\u001b[1;33m\u001b[0m\u001b[1;33m\u001b[0m\u001b[0m\n\u001b[0m\u001b[0;32m      2\u001b[0m \u001b[1;31m# with open('result.json', 'w') as fp:\u001b[0m\u001b[1;33m\u001b[0m\u001b[1;33m\u001b[0m\u001b[1;33m\u001b[0m\u001b[0m\n\u001b[0;32m      3\u001b[0m \u001b[1;31m#     json.dump(student, fp)\u001b[0m\u001b[1;33m\u001b[0m\u001b[1;33m\u001b[0m\u001b[1;33m\u001b[0m\u001b[0m\n\u001b[0;32m      4\u001b[0m \u001b[1;32mwith\u001b[0m \u001b[0mopen\u001b[0m\u001b[1;33m(\u001b[0m\u001b[1;34m'sampleJson.json'\u001b[0m\u001b[1;33m,\u001b[0m \u001b[1;34m'r'\u001b[0m\u001b[1;33m)\u001b[0m \u001b[1;32mas\u001b[0m \u001b[0mf\u001b[0m\u001b[1;33m:\u001b[0m\u001b[1;33m\u001b[0m\u001b[1;33m\u001b[0m\u001b[0m\n\u001b[0;32m      5\u001b[0m      \u001b[0md\u001b[0m \u001b[1;33m=\u001b[0m \u001b[0mjson\u001b[0m\u001b[1;33m.\u001b[0m\u001b[0mload\u001b[0m\u001b[1;33m(\u001b[0m\u001b[0mf\u001b[0m\u001b[1;33m)\u001b[0m\u001b[1;33m\u001b[0m\u001b[1;33m\u001b[0m\u001b[0m\n",
      "\u001b[1;31mModuleNotFoundError\u001b[0m: No module named 'simplejson'"
     ]
    }
   ],
   "source": [
    "import simplejson as json\n",
    "# with open('result.json', 'w') as fp:\n",
    "#     json.dump(student, fp)\n",
    "with open('sampleJson.json', 'r') as f:\n",
    "     d = json.load(f)\n",
    "for i in d:\n",
    "  print(i)\n",
    "print('finished')"
   ]
  },
  {
   "cell_type": "code",
   "execution_count": 3,
   "metadata": {},
   "outputs": [
    {
     "name": "stdout",
     "output_type": "stream",
     "text": [
      "Collecting simplejson\n",
      "  Downloading simplejson-3.17.6-cp37-cp37m-win_amd64.whl (75 kB)\n",
      "     ---------------------------------------- 75.6/75.6 KB 4.1 MB/s eta 0:00:00\n",
      "Installing collected packages: simplejson\n",
      "Successfully installed simplejson-3.17.6\n"
     ]
    },
    {
     "name": "stderr",
     "output_type": "stream",
     "text": [
      "WARNING: You are using pip version 22.0.3; however, version 22.0.4 is available.\n",
      "You should consider upgrading via the 'c:\\users\\sahibzada\\appdata\\local\\programs\\python\\python37\\python.exe -m pip install --upgrade pip' command.\n"
     ]
    }
   ],
   "source": [
    "!pip install simplejson"
   ]
  }
 ],
 "metadata": {
  "kernelspec": {
   "display_name": "RweetMinerVenv",
   "language": "python",
   "name": "rweetminervenv"
  },
  "language_info": {
   "codemirror_mode": {
    "name": "ipython",
    "version": 3
   },
   "file_extension": ".py",
   "mimetype": "text/x-python",
   "name": "python",
   "nbconvert_exporter": "python",
   "pygments_lexer": "ipython3",
   "version": "3.7.5"
  }
 },
 "nbformat": 4,
 "nbformat_minor": 2
}

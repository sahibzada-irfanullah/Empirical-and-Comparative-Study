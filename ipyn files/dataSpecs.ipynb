{
 "cells": [
  {
   "cell_type": "code",
   "execution_count": 42,
   "id": "703945f2-950a-491d-aca0-aeb96da891dc",
   "metadata": {},
   "outputs": [
    {
     "data": {
      "text/plain": [
       "not_request    2192\n",
       "request         524\n",
       "Name: tweet_class, dtype: int64"
      ]
     },
     "execution_count": 42,
     "metadata": {},
     "output_type": "execute_result"
    }
   ],
   "source": [
    "import pandas as pd\n",
    "fname = '../datasets/preprocessed_binary_dataset_Copy.csv'\n",
    "data = pd.read_csv(fname, encoding = \"ISO-8859-1\")\n",
    "data[\"tweet_class\"].value_counts()"
   ]
  },
  {
   "cell_type": "code",
   "execution_count": 43,
   "id": "b548e5ad-2712-4841-8559-aa852f64bf7c",
   "metadata": {},
   "outputs": [
    {
     "data": {
      "text/plain": [
       "not_request    2192\n",
       "request         524\n",
       "Name: tweet_class, dtype: int64"
      ]
     },
     "execution_count": 43,
     "metadata": {},
     "output_type": "execute_result"
    }
   ],
   "source": [
    "import pandas as pd\n",
    "fname = '../datasets/binary_dataset_Copy.csv'\n",
    "data = pd.read_csv(fname, encoding = \"ISO-8859-1\")\n",
    "data[\"tweet_class\"].value_counts()"
   ]
  },
  {
   "cell_type": "code",
   "execution_count": 44,
   "id": "594cfbf4-99d1-4318-a658-407759aa4ac8",
   "metadata": {},
   "outputs": [
    {
     "data": {
      "text/plain": [
       "'/media/irfan/새 볼륨/development/request_identification_ML/ipyn files'"
      ]
     },
     "execution_count": 44,
     "metadata": {},
     "output_type": "execute_result"
    }
   ],
   "source": [
    "pwd"
   ]
  }
 ],
 "metadata": {
  "kernelspec": {
   "display_name": "virEnv375",
   "language": "python",
   "name": "virenv375"
  },
  "language_info": {
   "codemirror_mode": {
    "name": "ipython",
    "version": 3
   },
   "file_extension": ".py",
   "mimetype": "text/x-python",
   "name": "python",
   "nbconvert_exporter": "python",
   "pygments_lexer": "ipython3",
   "version": "3.7.5"
  }
 },
 "nbformat": 4,
 "nbformat_minor": 5
}

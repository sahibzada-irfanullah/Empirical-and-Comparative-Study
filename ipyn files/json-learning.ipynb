{
 "cells": [
  {
   "cell_type": "code",
   "execution_count": 10,
   "metadata": {},
   "outputs": [
    {
     "name": "stdout",
     "output_type": "stream",
     "text": [
      "<class 'list'>\n",
      "{'favorited': False, 'contributors': None, 'truncated': False, 'text': 'News: History in the Making as #PTI Elects a Tailor as President of Kohat District https://t.co/NU29x7N3 #Pakistan #PTIIntraPartyElections', 'possibly_sensitive': False, 'is_quote_status': False, 'in_reply_to_status_id': None, 'user': {'follow_request_sent': False, 'has_extended_profile': False, 'profile_use_background_image': True, 'default_profile_image': False, 'id': 127483019, 'profile_background_image_url_https': 'https://pbs.twimg.com/profile_background_images/378800000095264967/23dea49346d93f01e00185071d879819.png', 'verified': True, 'translator_type': 'regular', 'profile_text_color': '333333', 'profile_image_url_https': 'https://pbs.twimg.com/profile_images/869663872143298560/KvesRl4I_normal.jpg', 'profile_sidebar_fill_color': 'EDFFED', 'entities': {'url': {'urls': [{'url': 'https://t.co/xo3qCdRqek', 'indices': [0, 23], 'expanded_url': 'http://www.insaf.pk', 'display_url': 'insaf.pk'}]}, 'description': {'urls': []}}, 'followers_count': 3131454, 'profile_sidebar_border_color': '000000', 'id_str': '127483019', 'profile_background_color': '044715', 'listed_count': 1669, 'is_translation_enabled': False, 'utc_offset': 18000, 'statuses_count': 162758, 'description': 'Official twitter account of Pakistan Tehreek-e-Insaf.', 'friends_count': 2018, 'location': 'Pakistan', 'profile_link_color': '43AB19', 'profile_image_url': 'http://pbs.twimg.com/profile_images/869663872143298560/KvesRl4I_normal.jpg', 'following': False, 'geo_enabled': False, 'profile_banner_url': 'https://pbs.twimg.com/profile_banners/127483019/1503314258', 'profile_background_image_url': 'http://pbs.twimg.com/profile_background_images/378800000095264967/23dea49346d93f01e00185071d879819.png', 'screen_name': 'PTIofficial', 'lang': 'en', 'profile_background_tile': False, 'favourites_count': 1496, 'name': 'PTI', 'notifications': False, 'url': 'https://t.co/xo3qCdRqek', 'created_at': 'Mon Mar 29 10:24:45 +0000 2010', 'contributors_enabled': False, 'time_zone': 'Islamabad', 'protected': False, 'default_profile': False, 'is_translator': False}, 'geo': None, 'id': 297127546787606528, 'favorite_count': 5, 'lang': 'en', 'entities': {'symbols': [], 'user_mentions': [], 'hashtags': [{'indices': [31, 35], 'text': 'PTI'}, {'indices': [105, 114], 'text': 'Pakistan'}, {'indices': [115, 138], 'text': 'PTIIntraPartyElections'}], 'urls': [{'url': 'https://t.co/NU29x7N3', 'indices': [83, 104], 'expanded_url': 'https://www.insaf.pk:443/News/tabid/60/articleType/ArticleView/articleId/14911/History-in-the-making-as-PTI-Elects-a-tailor-as-its-President-of-Kohat-District.aspx', 'display_url': 'insaf.pk/News/tabid/60/…'}]}, 'created_at': 'Thu Jan 31 23:41:42 +0000 2013', 'retweeted': False, 'coordinates': None, 'in_reply_to_user_id_str': None, 'source': '<a href=\"https://dev.twitter.com/docs/tfw\" rel=\"nofollow\">Twitter for Websites</a>', 'in_reply_to_status_id_str': None, 'in_reply_to_screen_name': None, 'in_reply_to_user_id': None, 'place': None, 'retweet_count': 13, 'id_str': '297127546787606528'}\n",
      "<class 'dict'>\n",
      "{'favorited': False, 'contributors': None, 'truncated': False, 'text': 'News: History in the Making as #PTI Elects a Tailor as President of Kohat District https://t.co/NU29x7N3 #Pakistan #PTIIntraPartyElections', 'possibly_sensitive': False, 'is_quote_status': False, 'in_reply_to_status_id': None, 'user': {'follow_request_sent': False, 'has_extended_profile': False, 'profile_use_background_image': True, 'default_profile_image': False, 'id': 127483019, 'profile_background_image_url_https': 'https://pbs.twimg.com/profile_background_images/378800000095264967/23dea49346d93f01e00185071d879819.png', 'verified': True, 'translator_type': 'regular', 'profile_text_color': '333333', 'profile_image_url_https': 'https://pbs.twimg.com/profile_images/869663872143298560/KvesRl4I_normal.jpg', 'profile_sidebar_fill_color': 'EDFFED', 'entities': {'url': {'urls': [{'url': 'https://t.co/xo3qCdRqek', 'indices': [0, 23], 'expanded_url': 'http://www.insaf.pk', 'display_url': 'insaf.pk'}]}, 'description': {'urls': []}}, 'followers_count': 3131454, 'profile_sidebar_border_color': '000000', 'id_str': '127483019', 'profile_background_color': '044715', 'listed_count': 1669, 'is_translation_enabled': False, 'utc_offset': 18000, 'statuses_count': 162758, 'description': 'Official twitter account of Pakistan Tehreek-e-Insaf.', 'friends_count': 2018, 'location': 'Pakistan', 'profile_link_color': '43AB19', 'profile_image_url': 'http://pbs.twimg.com/profile_images/869663872143298560/KvesRl4I_normal.jpg', 'following': False, 'geo_enabled': False, 'profile_banner_url': 'https://pbs.twimg.com/profile_banners/127483019/1503314258', 'profile_background_image_url': 'http://pbs.twimg.com/profile_background_images/378800000095264967/23dea49346d93f01e00185071d879819.png', 'screen_name': 'PTIofficial', 'lang': 'en', 'profile_background_tile': False, 'favourites_count': 1496, 'name': 'PTI', 'notifications': False, 'url': 'https://t.co/xo3qCdRqek', 'created_at': 'Mon Mar 29 10:24:45 +0000 2010', 'contributors_enabled': False, 'time_zone': 'Islamabad', 'protected': False, 'default_profile': False, 'is_translator': False}, 'geo': None, 'id': 297127546787606528, 'favorite_count': 5, 'lang': 'en', 'entities': {'symbols': [], 'user_mentions': [], 'hashtags': [{'indices': [31, 35], 'text': 'PTI'}, {'indices': [105, 114], 'text': 'Pakistan'}, {'indices': [115, 138], 'text': 'PTIIntraPartyElections'}], 'urls': [{'url': 'https://t.co/NU29x7N3', 'indices': [83, 104], 'expanded_url': 'https://www.insaf.pk:443/News/tabid/60/articleType/ArticleView/articleId/14911/History-in-the-making-as-PTI-Elects-a-tailor-as-its-President-of-Kohat-District.aspx', 'display_url': 'insaf.pk/News/tabid/60/…'}]}, 'created_at': 'Thu Jan 31 23:41:42 +0000 2013', 'retweeted': False, 'coordinates': None, 'in_reply_to_user_id_str': None, 'source': '<a href=\"https://dev.twitter.com/docs/tfw\" rel=\"nofollow\">Twitter for Websites</a>', 'in_reply_to_status_id_str': None, 'in_reply_to_screen_name': None, 'in_reply_to_user_id': None, 'place': None, 'retweet_count': 13, 'id_str': '297127546787606528'}\n",
      "<class 'dict'>\n",
      "{'favorited': False, 'contributors': None, 'truncated': False, 'text': 'News: History in the Making as #PTI Elects a Tailor as President of Kohat District https://t.co/NU29x7N3 #Pakistan #PTIIntraPartyElections', 'possibly_sensitive': False, 'is_quote_status': False, 'in_reply_to_status_id': None, 'user': {'follow_request_sent': False, 'has_extended_profile': False, 'profile_use_background_image': True, 'default_profile_image': False, 'id': 127483019, 'profile_background_image_url_https': 'https://pbs.twimg.com/profile_background_images/378800000095264967/23dea49346d93f01e00185071d879819.png', 'verified': True, 'translator_type': 'regular', 'profile_text_color': '333333', 'profile_image_url_https': 'https://pbs.twimg.com/profile_images/869663872143298560/KvesRl4I_normal.jpg', 'profile_sidebar_fill_color': 'EDFFED', 'entities': {'url': {'urls': [{'url': 'https://t.co/xo3qCdRqek', 'indices': [0, 23], 'expanded_url': 'http://www.insaf.pk', 'display_url': 'insaf.pk'}]}, 'description': {'urls': []}}, 'followers_count': 3131454, 'profile_sidebar_border_color': '000000', 'id_str': '127483019', 'profile_background_color': '044715', 'listed_count': 1669, 'is_translation_enabled': False, 'utc_offset': 18000, 'statuses_count': 162758, 'description': 'Official twitter account of Pakistan Tehreek-e-Insaf.', 'friends_count': 2018, 'location': 'Pakistan', 'profile_link_color': '43AB19', 'profile_image_url': 'http://pbs.twimg.com/profile_images/869663872143298560/KvesRl4I_normal.jpg', 'following': False, 'geo_enabled': False, 'profile_banner_url': 'https://pbs.twimg.com/profile_banners/127483019/1503314258', 'profile_background_image_url': 'http://pbs.twimg.com/profile_background_images/378800000095264967/23dea49346d93f01e00185071d879819.png', 'screen_name': 'PTIofficial', 'lang': 'en', 'profile_background_tile': False, 'favourites_count': 1496, 'name': 'PTI', 'notifications': False, 'url': 'https://t.co/xo3qCdRqek', 'created_at': 'Mon Mar 29 10:24:45 +0000 2010', 'contributors_enabled': False, 'time_zone': 'Islamabad', 'protected': False, 'default_profile': False, 'is_translator': False}, 'geo': None, 'id': 297127546787606528, 'favorite_count': 5, 'lang': 'en', 'entities': {'symbols': [], 'user_mentions': [], 'hashtags': [{'indices': [31, 35], 'text': 'PTI'}, {'indices': [105, 114], 'text': 'Pakistan'}, {'indices': [115, 138], 'text': 'PTIIntraPartyElections'}], 'urls': [{'url': 'https://t.co/NU29x7N3', 'indices': [83, 104], 'expanded_url': 'https://www.insaf.pk:443/News/tabid/60/articleType/ArticleView/articleId/14911/History-in-the-making-as-PTI-Elects-a-tailor-as-its-President-of-Kohat-District.aspx', 'display_url': 'insaf.pk/News/tabid/60/…'}]}, 'created_at': 'Thu Jan 31 23:41:42 +0000 2013', 'retweeted': False, 'coordinates': None, 'in_reply_to_user_id_str': None, 'source': '<a href=\"https://dev.twitter.com/docs/tfw\" rel=\"nofollow\">Twitter for Websites</a>', 'in_reply_to_status_id_str': None, 'in_reply_to_screen_name': None, 'in_reply_to_user_id': None, 'place': None, 'retweet_count': 13, 'id_str': '297127546787606528'}\n",
      "<class 'dict'>\n",
      "{'favorited': False, 'contributors': None, 'truncated': False, 'text': 'News: History in the Making as #PTI Elects a Tailor as President of Kohat District https://t.co/NU29x7N3 #Pakistan #PTIIntraPartyElections', 'possibly_sensitive': False, 'is_quote_status': False, 'in_reply_to_status_id': None, 'user': {'follow_request_sent': False, 'has_extended_profile': False, 'profile_use_background_image': True, 'default_profile_image': False, 'id': 127483019, 'profile_background_image_url_https': 'https://pbs.twimg.com/profile_background_images/378800000095264967/23dea49346d93f01e00185071d879819.png', 'verified': True, 'translator_type': 'regular', 'profile_text_color': '333333', 'profile_image_url_https': 'https://pbs.twimg.com/profile_images/869663872143298560/KvesRl4I_normal.jpg', 'profile_sidebar_fill_color': 'EDFFED', 'entities': {'url': {'urls': [{'url': 'https://t.co/xo3qCdRqek', 'indices': [0, 23], 'expanded_url': 'http://www.insaf.pk', 'display_url': 'insaf.pk'}]}, 'description': {'urls': []}}, 'followers_count': 3131454, 'profile_sidebar_border_color': '000000', 'id_str': '127483019', 'profile_background_color': '044715', 'listed_count': 1669, 'is_translation_enabled': False, 'utc_offset': 18000, 'statuses_count': 162758, 'description': 'Official twitter account of Pakistan Tehreek-e-Insaf.', 'friends_count': 2018, 'location': 'Pakistan', 'profile_link_color': '43AB19', 'profile_image_url': 'http://pbs.twimg.com/profile_images/869663872143298560/KvesRl4I_normal.jpg', 'following': False, 'geo_enabled': False, 'profile_banner_url': 'https://pbs.twimg.com/profile_banners/127483019/1503314258', 'profile_background_image_url': 'http://pbs.twimg.com/profile_background_images/378800000095264967/23dea49346d93f01e00185071d879819.png', 'screen_name': 'PTIofficial', 'lang': 'en', 'profile_background_tile': False, 'favourites_count': 1496, 'name': 'PTI', 'notifications': False, 'url': 'https://t.co/xo3qCdRqek', 'created_at': 'Mon Mar 29 10:24:45 +0000 2010', 'contributors_enabled': False, 'time_zone': 'Islamabad', 'protected': False, 'default_profile': False, 'is_translator': False}, 'geo': None, 'id': 297127546787606528, 'favorite_count': 5, 'lang': 'en', 'entities': {'symbols': [], 'user_mentions': [], 'hashtags': [{'indices': [31, 35], 'text': 'PTI'}, {'indices': [105, 114], 'text': 'Pakistan'}, {'indices': [115, 138], 'text': 'PTIIntraPartyElections'}], 'urls': [{'url': 'https://t.co/NU29x7N3', 'indices': [83, 104], 'expanded_url': 'https://www.insaf.pk:443/News/tabid/60/articleType/ArticleView/articleId/14911/History-in-the-making-as-PTI-Elects-a-tailor-as-its-President-of-Kohat-District.aspx', 'display_url': 'insaf.pk/News/tabid/60/…'}]}, 'created_at': 'Thu Jan 31 23:41:42 +0000 2013', 'retweeted': False, 'coordinates': None, 'in_reply_to_user_id_str': None, 'source': '<a href=\"https://dev.twitter.com/docs/tfw\" rel=\"nofollow\">Twitter for Websites</a>', 'in_reply_to_status_id_str': None, 'in_reply_to_screen_name': None, 'in_reply_to_user_id': None, 'place': None, 'retweet_count': 13, 'id_str': '297127546787606528'}\n",
      "<class 'dict'>\n",
      "finished\n"
     ]
    }
   ],
   "source": [
    "import simplejson as sjson\n",
    "student = [{\"favorited\": False, \"contributors\": None, \"truncated\": False, \"text\": \"News: History in the Making as #PTI Elects a Tailor as President of Kohat District https://t.co/NU29x7N3 #Pakistan #PTIIntraPartyElections\", \"possibly_sensitive\": False, \"is_quote_status\": False, \"in_reply_to_status_id\": None, \"user\": {\"follow_request_sent\": False, \"has_extended_profile\": False, \"profile_use_background_image\": True, \"default_profile_image\": False, \"id\": 127483019, \"profile_background_image_url_https\": \"https://pbs.twimg.com/profile_background_images/378800000095264967/23dea49346d93f01e00185071d879819.png\", \"verified\": True, \"translator_type\": \"regular\", \"profile_text_color\": \"333333\", \"profile_image_url_https\": \"https://pbs.twimg.com/profile_images/869663872143298560/KvesRl4I_normal.jpg\", \"profile_sidebar_fill_color\": \"EDFFED\", \"entities\": {\"url\": {\"urls\": [{\"url\": \"https://t.co/xo3qCdRqek\", \"indices\": [0, 23], \"expanded_url\": \"http://www.insaf.pk\", \"display_url\": \"insaf.pk\"}]}, \"description\": {\"urls\": []}}, \"followers_count\": 3131454, \"profile_sidebar_border_color\": \"000000\", \"id_str\": \"127483019\", \"profile_background_color\": \"044715\", \"listed_count\": 1669, \"is_translation_enabled\": False, \"utc_offset\": 18000, \"statuses_count\": 162758, \"description\": \"Official twitter account of Pakistan Tehreek-e-Insaf.\", \"friends_count\": 2018, \"location\": \"Pakistan\", \"profile_link_color\": \"43AB19\", \"profile_image_url\": \"http://pbs.twimg.com/profile_images/869663872143298560/KvesRl4I_normal.jpg\", \"following\": False, \"geo_enabled\": False, \"profile_banner_url\": \"https://pbs.twimg.com/profile_banners/127483019/1503314258\", \"profile_background_image_url\": \"http://pbs.twimg.com/profile_background_images/378800000095264967/23dea49346d93f01e00185071d879819.png\", \"screen_name\": \"PTIofficial\", \"lang\": \"en\", \"profile_background_tile\": False, \"favourites_count\": 1496, \"name\": \"PTI\", \"notifications\": False, \"url\": \"https://t.co/xo3qCdRqek\", \"created_at\": \"Mon Mar 29 10:24:45 +0000 2010\", \"contributors_enabled\": False, \"time_zone\": \"Islamabad\", \"protected\": False, \"default_profile\": False, \"is_translator\": False}, \"geo\": None, \"id\": 297127546787606528, \"favorite_count\": 5, \"lang\": \"en\", \"entities\": {\"symbols\": [], \"user_mentions\": [], \"hashtags\": [{\"indices\": [31, 35], \"text\": \"PTI\"}, {\"indices\": [105, 114], \"text\": \"Pakistan\"}, {\"indices\": [115, 138], \"text\": \"PTIIntraPartyElections\"}], \"urls\": [{\"url\": \"https://t.co/NU29x7N3\", \"indices\": [83, 104], \"expanded_url\": \"https://www.insaf.pk:443/News/tabid/60/articleType/ArticleView/articleId/14911/History-in-the-making-as-PTI-Elects-a-tailor-as-its-President-of-Kohat-District.aspx\", \"display_url\": \"insaf.pk/News/tabid/60/\\u2026\"}]}, \"created_at\": \"Thu Jan 31 23:41:42 +0000 2013\", \"retweeted\": False, \"coordinates\": None, \"in_reply_to_user_id_str\": None, \"source\": \"<a href=\\\"https://dev.twitter.com/docs/tfw\\\" rel=\\\"nofollow\\\">Twitter for Websites</a>\", \"in_reply_to_status_id_str\": None, \"in_reply_to_screen_name\": None, \"in_reply_to_user_id\": None, \"place\": None, \"retweet_count\": 13, \"id_str\": \"297127546787606528\"},\n",
    "{\"favorited\": False, \"contributors\": None, \"truncated\": False, \"text\": \"News: History in the Making as #PTI Elects a Tailor as President of Kohat District https://t.co/NU29x7N3 #Pakistan #PTIIntraPartyElections\", \"possibly_sensitive\": False, \"is_quote_status\": False, \"in_reply_to_status_id\": None, \"user\": {\"follow_request_sent\": False, \"has_extended_profile\": False, \"profile_use_background_image\": True, \"default_profile_image\": False, \"id\": 127483019, \"profile_background_image_url_https\": \"https://pbs.twimg.com/profile_background_images/378800000095264967/23dea49346d93f01e00185071d879819.png\", \"verified\": True, \"translator_type\": \"regular\", \"profile_text_color\": \"333333\", \"profile_image_url_https\": \"https://pbs.twimg.com/profile_images/869663872143298560/KvesRl4I_normal.jpg\", \"profile_sidebar_fill_color\": \"EDFFED\", \"entities\": {\"url\": {\"urls\": [{\"url\": \"https://t.co/xo3qCdRqek\", \"indices\": [0, 23], \"expanded_url\": \"http://www.insaf.pk\", \"display_url\": \"insaf.pk\"}]}, \"description\": {\"urls\": []}}, \"followers_count\": 3131454, \"profile_sidebar_border_color\": \"000000\", \"id_str\": \"127483019\", \"profile_background_color\": \"044715\", \"listed_count\": 1669, \"is_translation_enabled\": False, \"utc_offset\": 18000, \"statuses_count\": 162758, \"description\": \"Official twitter account of Pakistan Tehreek-e-Insaf.\", \"friends_count\": 2018, \"location\": \"Pakistan\", \"profile_link_color\": \"43AB19\", \"profile_image_url\": \"http://pbs.twimg.com/profile_images/869663872143298560/KvesRl4I_normal.jpg\", \"following\": False, \"geo_enabled\": False, \"profile_banner_url\": \"https://pbs.twimg.com/profile_banners/127483019/1503314258\", \"profile_background_image_url\": \"http://pbs.twimg.com/profile_background_images/378800000095264967/23dea49346d93f01e00185071d879819.png\", \"screen_name\": \"PTIofficial\", \"lang\": \"en\", \"profile_background_tile\": False, \"favourites_count\": 1496, \"name\": \"PTI\", \"notifications\": False, \"url\": \"https://t.co/xo3qCdRqek\", \"created_at\": \"Mon Mar 29 10:24:45 +0000 2010\", \"contributors_enabled\": False, \"time_zone\": \"Islamabad\", \"protected\": False, \"default_profile\": False, \"is_translator\": False}, \"geo\": None, \"id\": 297127546787606528, \"favorite_count\": 5, \"lang\": \"en\", \"entities\": {\"symbols\": [], \"user_mentions\": [], \"hashtags\": [{\"indices\": [31, 35], \"text\": \"PTI\"}, {\"indices\": [105, 114], \"text\": \"Pakistan\"}, {\"indices\": [115, 138], \"text\": \"PTIIntraPartyElections\"}], \"urls\": [{\"url\": \"https://t.co/NU29x7N3\", \"indices\": [83, 104], \"expanded_url\": \"https://www.insaf.pk:443/News/tabid/60/articleType/ArticleView/articleId/14911/History-in-the-making-as-PTI-Elects-a-tailor-as-its-President-of-Kohat-District.aspx\", \"display_url\": \"insaf.pk/News/tabid/60/\\u2026\"}]}, \"created_at\": \"Thu Jan 31 23:41:42 +0000 2013\", \"retweeted\": False, \"coordinates\": None, \"in_reply_to_user_id_str\": None, \"source\": \"<a href=\\\"https://dev.twitter.com/docs/tfw\\\" rel=\\\"nofollow\\\">Twitter for Websites</a>\", \"in_reply_to_status_id_str\": None, \"in_reply_to_screen_name\": None, \"in_reply_to_user_id\": None, \"place\": None, \"retweet_count\": 13, \"id_str\": \"297127546787606528\"},\n",
    "{\"favorited\": False, \"contributors\": None, \"truncated\": False, \"text\": \"News: History in the Making as #PTI Elects a Tailor as President of Kohat District https://t.co/NU29x7N3 #Pakistan #PTIIntraPartyElections\", \"possibly_sensitive\": False, \"is_quote_status\": False, \"in_reply_to_status_id\": None, \"user\": {\"follow_request_sent\": False, \"has_extended_profile\": False, \"profile_use_background_image\": True, \"default_profile_image\": False, \"id\": 127483019, \"profile_background_image_url_https\": \"https://pbs.twimg.com/profile_background_images/378800000095264967/23dea49346d93f01e00185071d879819.png\", \"verified\": True, \"translator_type\": \"regular\", \"profile_text_color\": \"333333\", \"profile_image_url_https\": \"https://pbs.twimg.com/profile_images/869663872143298560/KvesRl4I_normal.jpg\", \"profile_sidebar_fill_color\": \"EDFFED\", \"entities\": {\"url\": {\"urls\": [{\"url\": \"https://t.co/xo3qCdRqek\", \"indices\": [0, 23], \"expanded_url\": \"http://www.insaf.pk\", \"display_url\": \"insaf.pk\"}]}, \"description\": {\"urls\": []}}, \"followers_count\": 3131454, \"profile_sidebar_border_color\": \"000000\", \"id_str\": \"127483019\", \"profile_background_color\": \"044715\", \"listed_count\": 1669, \"is_translation_enabled\": False, \"utc_offset\": 18000, \"statuses_count\": 162758, \"description\": \"Official twitter account of Pakistan Tehreek-e-Insaf.\", \"friends_count\": 2018, \"location\": \"Pakistan\", \"profile_link_color\": \"43AB19\", \"profile_image_url\": \"http://pbs.twimg.com/profile_images/869663872143298560/KvesRl4I_normal.jpg\", \"following\": False, \"geo_enabled\": False, \"profile_banner_url\": \"https://pbs.twimg.com/profile_banners/127483019/1503314258\", \"profile_background_image_url\": \"http://pbs.twimg.com/profile_background_images/378800000095264967/23dea49346d93f01e00185071d879819.png\", \"screen_name\": \"PTIofficial\", \"lang\": \"en\", \"profile_background_tile\": False, \"favourites_count\": 1496, \"name\": \"PTI\", \"notifications\": False, \"url\": \"https://t.co/xo3qCdRqek\", \"created_at\": \"Mon Mar 29 10:24:45 +0000 2010\", \"contributors_enabled\": False, \"time_zone\": \"Islamabad\", \"protected\": False, \"default_profile\": False, \"is_translator\": False}, \"geo\": None, \"id\": 297127546787606528, \"favorite_count\": 5, \"lang\": \"en\", \"entities\": {\"symbols\": [], \"user_mentions\": [], \"hashtags\": [{\"indices\": [31, 35], \"text\": \"PTI\"}, {\"indices\": [105, 114], \"text\": \"Pakistan\"}, {\"indices\": [115, 138], \"text\": \"PTIIntraPartyElections\"}], \"urls\": [{\"url\": \"https://t.co/NU29x7N3\", \"indices\": [83, 104], \"expanded_url\": \"https://www.insaf.pk:443/News/tabid/60/articleType/ArticleView/articleId/14911/History-in-the-making-as-PTI-Elects-a-tailor-as-its-President-of-Kohat-District.aspx\", \"display_url\": \"insaf.pk/News/tabid/60/\\u2026\"}]}, \"created_at\": \"Thu Jan 31 23:41:42 +0000 2013\", \"retweeted\": False, \"coordinates\": None, \"in_reply_to_user_id_str\": None, \"source\": \"<a href=\\\"https://dev.twitter.com/docs/tfw\\\" rel=\\\"nofollow\\\">Twitter for Websites</a>\", \"in_reply_to_status_id_str\": None, \"in_reply_to_screen_name\": None, \"in_reply_to_user_id\": None, \"place\": None, \"retweet_count\": 13, \"id_str\": \"297127546787606528\"},\n",
    "{\"favorited\": False, \"contributors\": None, \"truncated\": False, \"text\": \"News: History in the Making as #PTI Elects a Tailor as President of Kohat District https://t.co/NU29x7N3 #Pakistan #PTIIntraPartyElections\", \"possibly_sensitive\": False, \"is_quote_status\": False, \"in_reply_to_status_id\": None, \"user\": {\"follow_request_sent\": False, \"has_extended_profile\": False, \"profile_use_background_image\": True, \"default_profile_image\": False, \"id\": 127483019, \"profile_background_image_url_https\": \"https://pbs.twimg.com/profile_background_images/378800000095264967/23dea49346d93f01e00185071d879819.png\", \"verified\": True, \"translator_type\": \"regular\", \"profile_text_color\": \"333333\", \"profile_image_url_https\": \"https://pbs.twimg.com/profile_images/869663872143298560/KvesRl4I_normal.jpg\", \"profile_sidebar_fill_color\": \"EDFFED\", \"entities\": {\"url\": {\"urls\": [{\"url\": \"https://t.co/xo3qCdRqek\", \"indices\": [0, 23], \"expanded_url\": \"http://www.insaf.pk\", \"display_url\": \"insaf.pk\"}]}, \"description\": {\"urls\": []}}, \"followers_count\": 3131454, \"profile_sidebar_border_color\": \"000000\", \"id_str\": \"127483019\", \"profile_background_color\": \"044715\", \"listed_count\": 1669, \"is_translation_enabled\": False, \"utc_offset\": 18000, \"statuses_count\": 162758, \"description\": \"Official twitter account of Pakistan Tehreek-e-Insaf.\", \"friends_count\": 2018, \"location\": \"Pakistan\", \"profile_link_color\": \"43AB19\", \"profile_image_url\": \"http://pbs.twimg.com/profile_images/869663872143298560/KvesRl4I_normal.jpg\", \"following\": False, \"geo_enabled\": False, \"profile_banner_url\": \"https://pbs.twimg.com/profile_banners/127483019/1503314258\", \"profile_background_image_url\": \"http://pbs.twimg.com/profile_background_images/378800000095264967/23dea49346d93f01e00185071d879819.png\", \"screen_name\": \"PTIofficial\", \"lang\": \"en\", \"profile_background_tile\": False, \"favourites_count\": 1496, \"name\": \"PTI\", \"notifications\": False, \"url\": \"https://t.co/xo3qCdRqek\", \"created_at\": \"Mon Mar 29 10:24:45 +0000 2010\", \"contributors_enabled\": False, \"time_zone\": \"Islamabad\", \"protected\": False, \"default_profile\": False, \"is_translator\": False}, \"geo\": None, \"id\": 297127546787606528, \"favorite_count\": 5, \"lang\": \"en\", \"entities\": {\"symbols\": [], \"user_mentions\": [], \"hashtags\": [{\"indices\": [31, 35], \"text\": \"PTI\"}, {\"indices\": [105, 114], \"text\": \"Pakistan\"}, {\"indices\": [115, 138], \"text\": \"PTIIntraPartyElections\"}], \"urls\": [{\"url\": \"https://t.co/NU29x7N3\", \"indices\": [83, 104], \"expanded_url\": \"https://www.insaf.pk:443/News/tabid/60/articleType/ArticleView/articleId/14911/History-in-the-making-as-PTI-Elects-a-tailor-as-its-President-of-Kohat-District.aspx\", \"display_url\": \"insaf.pk/News/tabid/60/\\u2026\"}]}, \"created_at\": \"Thu Jan 31 23:41:42 +0000 2013\", \"retweeted\": False, \"coordinates\": None, \"in_reply_to_user_id_str\": None, \"source\": \"<a href=\\\"https://dev.twitter.com/docs/tfw\\\" rel=\\\"nofollow\\\">Twitter for Websites</a>\", \"in_reply_to_status_id_str\": None, \"in_reply_to_screen_name\": None, \"in_reply_to_user_id\": None, \"place\": None, \"retweet_count\": 13, \"id_str\": \"297127546787606528\"}]\n",
    "print(type(student));\n",
    "# with open('result.json', 'w') as fp:\n",
    "#     sjson.dump(student, fp)\n",
    "with open('result.json', 'r') as f:\n",
    "     d = sjson.load(f)\n",
    "for i in d:\n",
    "  print(i)\n",
    "  print(type(i))\n",
    "print('finished')"
   ]
  },
  {
   "cell_type": "code",
   "execution_count": 22,
   "metadata": {},
   "outputs": [
    {
     "name": "stdout",
     "output_type": "stream",
     "text": [
      "{'created_at': 'Fri Nov 02 14:08:45 +0000 2012', 'id': 264368453723492352, 'id_str': '264368453723492352', 'text': 'This is awesome. RT @jseverydayfash: Sell your clothes and help raise funds for victims of Hurricane #Sandy: http://t.co/K8yDKcqP', 'truncated': False, 'entities': {'hashtags': [{'text': 'Sandy', 'indices': [101, 107]}], 'symbols': [], 'user_mentions': [{'screen_name': 'JsEverydayFash', 'name': \"J's Everyday Fashion\", 'id': 166299213, 'id_str': '166299213', 'indices': [20, 35]}], 'urls': [{'url': 'http://t.co/K8yDKcqP', 'expanded_url': 'http://blog.liketwice.com/post/34765048420/twice-doubles-down-on-donations', 'display_url': 'blog.liketwice.com/post/347650484…', 'indices': [109, 129]}]}, 'source': '<a href=\"http://www.hootsuite.com\" rel=\"nofollow\">Hootsuite</a>', 'in_reply_to_status_id': None, 'in_reply_to_status_id_str': None, 'in_reply_to_user_id': None, 'in_reply_to_user_id_str': None, 'in_reply_to_screen_name': None, 'user': {'id': 30999873, 'id_str': '30999873', 'name': 'Sarah Paulus', 'screen_name': 'sepaulus', 'location': 'Washington, DC', 'description': 'STL native. DC local.  I love Cardinals baseball, pop culture, good television & malbec.', 'url': None, 'entities': {'description': {'urls': []}}, 'protected': False, 'followers_count': 172, 'friends_count': 380, 'listed_count': 16, 'created_at': 'Tue Apr 14 00:05:29 +0000 2009', 'favourites_count': 7, 'utc_offset': -14400, 'time_zone': 'Eastern Time (US & Canada)', 'geo_enabled': False, 'verified': False, 'statuses_count': 1161, 'lang': 'en', 'contributors_enabled': False, 'is_translator': False, 'is_translation_enabled': False, 'profile_background_color': 'EBEBEB', 'profile_background_image_url': 'http://abs.twimg.com/images/themes/theme7/bg.gif', 'profile_background_image_url_https': 'https://abs.twimg.com/images/themes/theme7/bg.gif', 'profile_background_tile': False, 'profile_image_url': 'http://pbs.twimg.com/profile_images/721713976598519808/JtGrVDE8_normal.jpg', 'profile_image_url_https': 'https://pbs.twimg.com/profile_images/721713976598519808/JtGrVDE8_normal.jpg', 'profile_banner_url': 'https://pbs.twimg.com/profile_banners/30999873/1351866359', 'profile_link_color': '990000', 'profile_sidebar_border_color': 'DFDFDF', 'profile_sidebar_fill_color': 'F3F3F3', 'profile_text_color': '333333', 'profile_use_background_image': True, 'has_extended_profile': False, 'default_profile': False, 'default_profile_image': False, 'following': False, 'follow_request_sent': False, 'notifications': False, 'translator_type': 'none'}, 'geo': None, 'coordinates': None, 'place': None, 'contributors': None, 'is_quote_status': False, 'retweet_count': 0, 'favorite_count': 0, 'favorited': False, 'retweeted': False, 'possibly_sensitive': False, 'possibly_sensitive_appealable': False, 'lang': 'en', 'ugc': {'label': 'Clothing'}}\n",
      "finished\n"
     ]
    }
   ],
   "source": [
    "import simplejson as sjson\n",
    "# with open('result.json', 'w') as fp:\n",
    "#     json.dump(student, fp)\n",
    "with open('myTweet.json', 'r') as f:\n",
    "     d = sjson.load(f)\n",
    "for i in d:\n",
    "  print(i)\n",
    "print('finished')"
   ]
  },
  {
   "cell_type": "code",
   "execution_count": 70,
   "metadata": {},
   "outputs": [
    {
     "name": "stdout",
     "output_type": "stream",
     "text": [
      "{'Age': [20, 'Twenty'], 'rigid': {'ugc': '23'}}\n",
      "{'Age': [20, 'Twenty'], 'rigid': {'ugc': ['23']}}\n",
      "{'Age': [30], 'rigid': {'ugc': ['23', 'd']}}\n",
      "[{'Age': [30, 'Thirty'], 'rigid': {'ugc': ['30', 'e']}}, {'Age': [30, 'Thirty'], 'rigid': {'ugc': ['30', 'e']}}]\n"
     ]
    }
   ],
   "source": [
    "ls = []\n",
    "Details = {}\n",
    "\n",
    "Details[\"Age\"] = [20]\n",
    "# print(Details)\n",
    "Details[\"Age\"].append(\"Twenty\")\n",
    "Details[\"rigid\"] = {\"ugc\": \"23\"} \n",
    "print(Details)\n",
    "Details[\"rigid\"]['ugc'] = [Details[\"rigid\"]['ugc']]\n",
    "print(Details)\n",
    "# Details[\"rigid\"] = {\"ugc\": [Details[\"rigid\"]['ugc']]} \n",
    "Details[\"rigid\"]['ugc'].append(\"d\")\n",
    "ls.append(Details)\n",
    "Details[\"Age\"] = [30]\n",
    "print(Details)\n",
    "Details[\"Age\"].append(\"Thirty\")\n",
    "Details[\"rigid\"] = {\"ugc\": \"30\"} \n",
    "Details[\"rigid\"] = {\"ugc\": [Details[\"rigid\"]['ugc']]} \n",
    "Details[\"rigid\"]['ugc'].append(\"e\")\n",
    "ls.append(Details)\n",
    "with open('test.json', 'w') as fp:\n",
    "    sjson.dump(ls, fp)\n",
    "print(ls)\n"
   ]
  },
  {
   "cell_type": "code",
   "execution_count": 72,
   "metadata": {},
   "outputs": [],
   "source": [
    "import pandas as pd\n",
    "import spacy\n",
    "import simplejson as sjson\n",
    "nlp = spacy.load(\"en_core_web_lg\")"
   ]
  },
  {
   "cell_type": "code",
   "execution_count": 78,
   "metadata": {},
   "outputs": [
    {
     "name": "stdout",
     "output_type": "stream",
     "text": [
      "this is awesome. rt @jseverydayfash: sell your clothes and help raise funds for victims of hurricane #sandy: http://t.co/k8ydkcqp :  request\n",
      "i told keith to donate his huge pile of clothes to the people affected by the hurricane he better do it ! :  not_request\n",
      "Number of tweets updated: 2 Total Number of tweets: 3\n"
     ]
    }
   ],
   "source": [
    "# path = 'binary_dataset.json'\n",
    "# dfDanish = pd.read_csv('myTweet.csv',  encoding = \"utf-8\")\n",
    "\n",
    "# for i, row in dfDanish.iterrows():\n",
    "import simplejson as sjson\n",
    "path_to_OldData = 'sampleJson.json'\n",
    "j = open(path_to_OldData, encoding=\"UTF-8\")\n",
    "path_to_NewData = 'myTweet.csv'\n",
    "df_NewData = pd.read_csv(path_to_NewData)\n",
    "count = 0\n",
    "js_OldData = sjson.loads(j.read())\n",
    "for _, rowNewData in df_NewData.iterrows():\n",
    "    print(rowNewData[0].lower(), \":\", rowNewData[1].lower())\n",
    "#     twDanish['tweet_text']\n",
    "#     print(20*\"++\")\n",
    "    newDataText = nlp(rowNewData[0].lower())\n",
    "    for i in range(len(js_OldData)):\n",
    "#             print(type(js_OldData[i]))\n",
    "        OldDataText = nlp(js_OldData[i]['text'].lower())\n",
    "        if newDataText.similarity(OldDataText) > 0.98:\n",
    "#                 print(\"similarity\", newDataText.similarity(OldDataText))\n",
    "#                 print(newDataText, \":::\", OldDataText)\n",
    "            count += 1\n",
    "            js_OldData[i]['text_new']  = rowNewData[0]\n",
    "            js_OldData[i]['ugc']['label_new'] = rowNewData[1]\n",
    "#         print(js_OldData)\n",
    "\n",
    "print(\"Number of tweets updated:\", count, \"Total Number of tweets:\", len(js_OldData))               \n",
    "# print(js_OldData)\n",
    "# # print(js_OldData)\n",
    "\n",
    "with open(path_to_OldData + \"new.json\", 'w') as fp:\n",
    "    sjson.dump(js_OldData, fp)            \n",
    "# # doc2 = nlp('this person is walking')\n",
    "# #             print(data[i]['text'].lower())"
   ]
  }
 ],
 "metadata": {
  "kernelspec": {
   "display_name": "RweetMinerVenv",
   "language": "python",
   "name": "rweetminervenv"
  },
  "language_info": {
   "codemirror_mode": {
    "name": "ipython",
    "version": 3
   },
   "file_extension": ".py",
   "mimetype": "text/x-python",
   "name": "python",
   "nbconvert_exporter": "python",
   "pygments_lexer": "ipython3",
   "version": "3.7.5"
  }
 },
 "nbformat": 4,
 "nbformat_minor": 2
}

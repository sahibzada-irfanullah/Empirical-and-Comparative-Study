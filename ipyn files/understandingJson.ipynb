{
 "cells": [
  {
   "cell_type": "code",
   "execution_count": 72,
   "metadata": {
    "scrolled": true
   },
   "outputs": [
    {
     "name": "stdout",
     "output_type": "stream",
     "text": [
      "22\n",
      "[81, 159, 428, 553, 555, 563, 752, 968, 1100, 1117, 1128, 1130, 1175, 1298, 1802, 1817, 2155, 2174, 2294, 2362, 2393, 2481]\n"
     ]
    }
   ],
   "source": [
    "import pandas as pd\n",
    "import json\n",
    "from pprint import pprint\n",
    "# fname = '/home/sahibzada/downloading Tweets/sampleJson.json'\n",
    "# fname = '/home/sahibzada/downloading Tweets/json dataset for use/binary_dataset.json'\n",
    "# fname = '/home/sahibzada/downloading Tweets/json dataset for use/multi_dataset.json'\n",
    "\n",
    "# tweets_data = []\n",
    "# i = 0\n",
    "# with open(fname, 'r') as f:\n",
    "#     for line in f:\n",
    "#         tweet = json.loads(line)\n",
    "# # print(tweet['text'])\n",
    "# print(len(tweet))\n",
    "\n",
    "\n",
    "tweets_data = []\n",
    "tweets_file = open(fname, \"r\")\n",
    "for line in tweets_file:\n",
    "    try:\n",
    "        tweet = json.loads(line)\n",
    "#         tweets_data.append(tweet)\n",
    "    except:\n",
    "        continue\n",
    "count = 0\n",
    "list_count = []\n",
    "for i in range(len(tweet)):\n",
    "    tw = tweet[i]['coordinates']\n",
    "    if tw != None:\n",
    "        count = count + 1\n",
    "        list_count.append(i)\n",
    "        \n",
    "print(count)\n",
    "print(list_count)\n",
    "\n",
    "    \n",
    "    \n"
   ]
  },
  {
   "cell_type": "code",
   "execution_count": null,
   "metadata": {},
   "outputs": [],
   "source": [
    "from collections import Counter \n",
    "import json \n",
    " \n",
    "def get_hashtags(tweet): \n",
    "  entities = tweet.get('entities', {}) \n",
    "  hashtags = entities.get('hashtags', []) \n",
    "  return [tag['text'].lower() for tag in hashtags] \n",
    " \n",
    "if __name__ == '__main__': \n",
    "  "
   ]
  }
 ],
 "metadata": {
  "kernelspec": {
   "display_name": "RweetMinerVenv",
   "language": "python",
   "name": "rweetminervenv"
  },
  "language_info": {
   "codemirror_mode": {
    "name": "ipython",
    "version": 3
   },
   "file_extension": ".py",
   "mimetype": "text/x-python",
   "name": "python",
   "nbconvert_exporter": "python",
   "pygments_lexer": "ipython3",
   "version": "3.7.5"
  }
 },
 "nbformat": 4,
 "nbformat_minor": 2
}

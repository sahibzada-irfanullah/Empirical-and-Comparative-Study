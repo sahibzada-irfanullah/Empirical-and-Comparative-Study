{
 "cells": [
  {
   "cell_type": "code",
   "execution_count": 46,
   "id": "de562773-a339-4b03-8d41-03be3c8aedcc",
   "metadata": {},
   "outputs": [],
   "source": [
    "import pandas as pd\n",
    "from sklearn import preprocessing\n",
    "import numpy as np"
   ]
  },
  {
   "cell_type": "code",
   "execution_count": 73,
   "id": "72111887-56af-415a-a6bf-5731d598a230",
   "metadata": {},
   "outputs": [],
   "source": [
    "path = 'preprocessed_binary_dataset_Copy.csv'\n",
    "df = pd.read_csv(path, encoding= 'unicode_escape')"
   ]
  },
  {
   "cell_type": "code",
   "execution_count": 74,
   "id": "e50ec678-3e1f-4a5e-b638-56fe72718726",
   "metadata": {},
   "outputs": [],
   "source": [
    "y_binary = df['tweet_class']\n",
    "\n",
    "le = preprocessing.LabelEncoder()\n",
    "y_binary = le.fit_transform(y_binary)\n",
    "\n",
    "classes_labels_binary = le.classes_"
   ]
  },
  {
   "cell_type": "code",
   "execution_count": 75,
   "id": "880ad5c0-d99b-4ad5-8ce5-a955751f9832",
   "metadata": {},
   "outputs": [
    {
     "data": {
      "text/plain": [
       "array(['not_request', 'request'], dtype=object)"
      ]
     },
     "execution_count": 75,
     "metadata": {},
     "output_type": "execute_result"
    }
   ],
   "source": [
    "classes_labels_binary"
   ]
  },
  {
   "cell_type": "code",
   "execution_count": 67,
   "id": "2fd445c0-39dd-43c2-8f22-73dfa6832e24",
   "metadata": {},
   "outputs": [
    {
     "ename": "AttributeError",
     "evalue": "'numpy.ndarray' object has no attribute 'value_counts'",
     "output_type": "error",
     "traceback": [
      "\u001b[0;31m---------------------------------------------------------------------------\u001b[0m",
      "\u001b[0;31mAttributeError\u001b[0m                            Traceback (most recent call last)",
      "\u001b[0;32m/tmp/ipykernel_21441/3756624785.py\u001b[0m in \u001b[0;36m<module>\u001b[0;34m\u001b[0m\n\u001b[0;32m----> 1\u001b[0;31m \u001b[0my_binary\u001b[0m\u001b[0;34m.\u001b[0m\u001b[0mvalue_counts\u001b[0m\u001b[0;34m(\u001b[0m\u001b[0;34m)\u001b[0m\u001b[0;34m\u001b[0m\u001b[0;34m\u001b[0m\u001b[0m\n\u001b[0m",
      "\u001b[0;31mAttributeError\u001b[0m: 'numpy.ndarray' object has no attribute 'value_counts'"
     ]
    }
   ],
   "source": [
    "y_binary.value_counts()"
   ]
  },
  {
   "cell_type": "code",
   "execution_count": 60,
   "id": "b2292567-5fb5-46ba-a8df-27b47a704194",
   "metadata": {},
   "outputs": [
    {
     "data": {
      "text/plain": [
       "not_request    2205\n",
       "request         524\n",
       "Name: tweet_class, dtype: int64"
      ]
     },
     "execution_count": 60,
     "metadata": {},
     "output_type": "execute_result"
    }
   ],
   "source": [
    "y_binary = df['tweet_class']\n",
    "y_binary.value_counts()"
   ]
  },
  {
   "cell_type": "code",
   "execution_count": 35,
   "id": "1ca22968-9ba8-44d6-ba9f-34a53ba43b92",
   "metadata": {},
   "outputs": [
    {
     "data": {
      "text/plain": [
       "not_request    2192\n",
       "request         524\n",
       "Name: tweet_class, dtype: int64"
      ]
     },
     "execution_count": 35,
     "metadata": {},
     "output_type": "execute_result"
    }
   ],
   "source": [
    "df['tweet_class'].value_counts()"
   ]
  },
  {
   "cell_type": "code",
   "execution_count": 63,
   "id": "feb9b0a9-3b53-4b27-933b-f6b5bfac944f",
   "metadata": {},
   "outputs": [
    {
     "data": {
      "text/html": [
       "<div>\n",
       "<style scoped>\n",
       "    .dataframe tbody tr th:only-of-type {\n",
       "        vertical-align: middle;\n",
       "    }\n",
       "\n",
       "    .dataframe tbody tr th {\n",
       "        vertical-align: top;\n",
       "    }\n",
       "\n",
       "    .dataframe thead th {\n",
       "        text-align: right;\n",
       "    }\n",
       "</style>\n",
       "<table border=\"1\" class=\"dataframe\">\n",
       "  <thead>\n",
       "    <tr style=\"text-align: right;\">\n",
       "      <th></th>\n",
       "      <th>sno</th>\n",
       "      <th>tweet_text</th>\n",
       "      <th>tweet_class</th>\n",
       "    </tr>\n",
       "  </thead>\n",
       "  <tbody>\n",
       "  </tbody>\n",
       "</table>\n",
       "</div>"
      ],
      "text/plain": [
       "Empty DataFrame\n",
       "Columns: [sno, tweet_text, tweet_class]\n",
       "Index: []"
      ]
     },
     "execution_count": 63,
     "metadata": {},
     "output_type": "execute_result"
    }
   ],
   "source": [
    "df[df['tweet_class'].isnull() == True]"
   ]
  },
  {
   "cell_type": "code",
   "execution_count": 47,
   "id": "2e8811ab-8fdb-43fe-a89e-bd48327d673f",
   "metadata": {},
   "outputs": [
    {
     "data": {
      "text/html": [
       "<div>\n",
       "<style scoped>\n",
       "    .dataframe tbody tr th:only-of-type {\n",
       "        vertical-align: middle;\n",
       "    }\n",
       "\n",
       "    .dataframe tbody tr th {\n",
       "        vertical-align: top;\n",
       "    }\n",
       "\n",
       "    .dataframe thead th {\n",
       "        text-align: right;\n",
       "    }\n",
       "</style>\n",
       "<table border=\"1\" class=\"dataframe\">\n",
       "  <thead>\n",
       "    <tr style=\"text-align: right;\">\n",
       "      <th></th>\n",
       "      <th>Unnamed: 0</th>\n",
       "      <th>sno</th>\n",
       "      <th>tweet_text</th>\n",
       "      <th>tweet_class</th>\n",
       "    </tr>\n",
       "  </thead>\n",
       "  <tbody>\n",
       "  </tbody>\n",
       "</table>\n",
       "</div>"
      ],
      "text/plain": [
       "Empty DataFrame\n",
       "Columns: [Unnamed: 0, sno, tweet_text, tweet_class]\n",
       "Index: []"
      ]
     },
     "execution_count": 47,
     "metadata": {},
     "output_type": "execute_result"
    }
   ],
   "source": [
    "df[df['tweet_class'] == np.nan]"
   ]
  }
 ],
 "metadata": {
  "kernelspec": {
   "display_name": "virEnv375",
   "language": "python",
   "name": "virenv375"
  },
  "language_info": {
   "codemirror_mode": {
    "name": "ipython",
    "version": 3
   },
   "file_extension": ".py",
   "mimetype": "text/x-python",
   "name": "python",
   "nbconvert_exporter": "python",
   "pygments_lexer": "ipython3",
   "version": "3.7.5"
  }
 },
 "nbformat": 4,
 "nbformat_minor": 5
}

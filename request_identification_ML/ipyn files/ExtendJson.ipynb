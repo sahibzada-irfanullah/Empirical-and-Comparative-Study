{
 "cells": [
  {
   "cell_type": "code",
   "execution_count": 21,
   "metadata": {
    "scrolled": true
   },
   "outputs": [
    {
     "name": "stdout",
     "output_type": "stream",
     "text": [
      "3068\n"
     ]
    }
   ],
   "source": [
    "import simplejson as json\n",
    "# file1 = 'binary_dataset.json'\n",
    "# file2 = 'OneThreeOutWithOutEMbinary_dataset.json'\n",
    "combinedFile =  'combined_Both_dataset.json'\n",
    "# with open(file1, 'r') as outfile1, open(file2, 'r') as outfile2:\n",
    "#     comb = d1 = json.load(outfile1)\n",
    "#     d2 = json.load(outfile2)\n",
    "# print('size of first file')\n",
    "# print(len(d1))\n",
    "# print('size of second file')\n",
    "# print(len(d2))\n",
    "# print('size of combined file')\n",
    "# comb.extend(d2)\n",
    "# print(len(comb))\n",
    "# with open(combinedFile, 'w') as combHand:\n",
    "#     json.dump(comb, combHand)\n",
    "with open(combinedFile, 'r') as f:\n",
    "    d = json.load(f)\n",
    "print(len(d))\n",
    "# for i in d:\n",
    "#   print(i['id'])"
   ]
  },
  {
   "cell_type": "code",
   "execution_count": 16,
   "metadata": {},
   "outputs": [
    {
     "name": "stdout",
     "output_type": "stream",
     "text": [
      "2877\n"
     ]
    }
   ],
   "source": [
    "with open('../binary_dataset (another copy).json', 'r') as f:\n",
    "    d = json.load(f)\n",
    "print(len(d))"
   ]
  },
  {
   "cell_type": "code",
   "execution_count": 19,
   "metadata": {},
   "outputs": [
    {
     "data": {
      "text/plain": [
       "True"
      ]
     },
     "execution_count": 19,
     "metadata": {},
     "output_type": "execute_result"
    }
   ],
   "source": [
    "2877 + 191 == 3068"
   ]
  }
 ],
 "metadata": {
  "kernelspec": {
   "display_name": "RweetMinerVenv",
   "language": "python",
   "name": "rweetminervenv"
  },
  "language_info": {
   "codemirror_mode": {
    "name": "ipython",
    "version": 3
   },
   "file_extension": ".py",
   "mimetype": "text/x-python",
   "name": "python",
   "nbconvert_exporter": "python",
   "pygments_lexer": "ipython3",
   "version": "3.7.5"
  }
 },
 "nbformat": 4,
 "nbformat_minor": 2
}

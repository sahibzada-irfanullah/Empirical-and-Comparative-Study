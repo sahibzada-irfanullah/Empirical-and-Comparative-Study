{
 "cells": [
  {
   "cell_type": "code",
   "execution_count": 22,
   "metadata": {
    "scrolled": true
   },
   "outputs": [
    {
     "name": "stdout",
     "output_type": "stream",
     "text": [
      "....5%....10%....15%....20%....25%....30%....35%....40%....45%....50%....55%....60%....65%....70%....75%....80%....85%....90%....95%....100%Download Complete!\n",
      "Report:\n",
      "Total:3799, Success:2870, Failed:929\n",
      ".Email has been sent.\n",
      "you are logout\n",
      "\n",
      "Script Completed:\n"
     ]
    }
   ],
   "source": [
    "'''\n",
    "Gets text content for tweet IDs\n",
    "'''\n",
    "\n",
    "# standard\n",
    "import simplejson as json\n",
    "from __future__ import print_function\n",
    "from Sending_email import Sending_email_Cls\n",
    "import getopt\n",
    "import logging\n",
    "import os\n",
    "import sys\n",
    "import csv\n",
    "import pandas as pd\n",
    "from time import sleep\n",
    "\n",
    "\n",
    "# import traceback\n",
    "# third-party: `pip install tweepy`\n",
    "import tweepy\n",
    "\n",
    "\n",
    "last_percent_reported = None\n",
    "successTweets = 0\n",
    "failedTweets = 0\n",
    "tweet_count = 0\n",
    "\n",
    "\n",
    "def report(tweet_count, successTweets, failedTweets):\n",
    "  print('Download Complete!')\n",
    "  print(\"Report:\")\n",
    "  print(\"Total:%s, Success:%s, Failed:%s\" % (tweet_count, successTweets, failedTweets))\n",
    "\n",
    "\n",
    "def download_progress_hook(count, totalSize, successTweets, failedTweets):\n",
    "  \"\"\"A hook to report the progress of a download. This is mostly intended for users with\n",
    "  slow internet connections. Reports every 5% change in download progress.\n",
    "  \"\"\"\n",
    "\n",
    "  global last_percent_reported\n",
    "  percent = int(count * 100 / totalSize + 1)\n",
    "\n",
    "  if last_percent_reported != percent:\n",
    "    if percent % 5 == 0:\n",
    "      sys.stdout.write(\"%s%%\" % percent)\n",
    "      sys.stdout.flush()\n",
    "    else:\n",
    "      sys.stdout.write(\".\")\n",
    "      sys.stdout.flush()\n",
    "    last_percent_reported = percent\n",
    "    if percent == 100:\n",
    "      report(count, successTweets, failedTweets)\n",
    "\n",
    "\n",
    "\n",
    "\n",
    "# global logger level is configured in main()\n",
    "Logger = None\n",
    "\n",
    "# For the following, Generate your own at https://apps.twitter.com/app\n",
    "CONSUMER_KEY = \"rHhRh1sHgdOk3Z7bae3U5OQvM\"\n",
    "CONSUMER_SECRET = \"7YeBw1lkUTLrcbnnZ5mHCEopE1HqKKzLlY405fbb5kbUyLUUsZ\"\n",
    "OAUTH_TOKEN = \"346104128-81ip2674UJNKQX9npcuwuDfhveGIAt9ZjrGreJVW\"\n",
    "OAUTH_TOKEN_SECRET = \"UPPnR5XN88x9ad02dihX5vOCbd8VeL3D5464ir785May3\"\n",
    "\n",
    "def get_tweet_id(line):\n",
    "    '''\n",
    "    Extracts and returns tweet ID from a line in the input.\n",
    "    '''\n",
    "  \n",
    "    text= line.split(',') #check which separtor is used in the dataset\n",
    "#     print(text)\n",
    "    return (text)\n",
    "\n",
    "def get_tweets_single(twapi, idfilepath):\n",
    "    '''\n",
    "    Fetches content for tweet IDs in a file one at a time,\n",
    "    which means a ton of HTTPS requests, so NOT recommended.\n",
    "\n",
    "    `twapi`: Initialized, authorized API object from Tweepy\n",
    "    `idfilepath`: Path to file containing IDs\n",
    "    '''\n",
    "    # process IDs from the file\n",
    "    failedTweetsFileCsv = \"tweet_failed_binaryCalsses.csv\"\n",
    "    global successTweets, failedTweets, tweet_count\n",
    "    with open(failedTweetsFileCsv, 'wt') as failedTweetsHandler: # Dataset's name in which downloaded tweet-text will be saved\n",
    "      tweetWriterFailed = csv.writer(failedTweetsHandler)\n",
    "      tweetWriterFailed.writerow(['tweetID', 'Error-Message','tweet-class'])\n",
    "      with open(idfilepath, 'r') as idfile:\n",
    "          tweets_downloaded = []\n",
    "          next(idfile)\n",
    "          totalSize = len(pd.read_csv(idfilepath))\n",
    "          # print(totalSize)\n",
    "          for line in idfile:\n",
    "              tweet_id, tweet_class = get_tweet_id(line)\n",
    "#               print('Fetching tweet for ID %s', tweet_id)\n",
    "              try:\n",
    "#                   print(tweet_id)\n",
    "#                   tweet_id = '739067333847572480'\n",
    "                  tweet = twapi.get_status(tweet_id, include_entities=True, trim_user=False)\n",
    "#                   print('%s,%s,%s' % (tweet_id, tweet.text.encode('UTF-8'),tweet_class))\n",
    "#                   tweetWriter.writerow([tweet_id, tweet.text.encode('UTF-8'),(tweet_class).strip()])\n",
    "#                   print(tweet)\n",
    "                  temp_tweet = dict(tweet._json)\n",
    "                  label = (tweet_class).strip()\n",
    "                  ugc_item = {\"ugc\": {\"label\": label}}\n",
    "                  temp_tweet.update(ugc_item)\n",
    "                  tweets_downloaded.append(temp_tweet)\n",
    "                  successTweets = successTweets + 1\n",
    "                  tweet_count = tweet_count + 1\n",
    "                  download_progress_hook(tweet_count, totalSize\n",
    "                                         ,successTweets, failedTweets)\n",
    "#                   sleep(1)\n",
    "              except tweepy.TweepError as te:\n",
    "#                   print('Twitter error: ', te.response.text)\n",
    "#                     print(\"error occured\")\n",
    "#                   Logger.warn('Failed to get tweet ID %s: %s', tweet_id, te.message)\n",
    "                  try:\n",
    "                    tweetWriterFailed.writerow([tweet_id, te.response.text, (tweet_class).strip()])\n",
    "                  except:\n",
    "                    tweetWriterFailed.writerow([tweet_id, (tweet_class).strip()]) \n",
    "                  tweet_count = tweet_count + 1\n",
    "                  failedTweets = failedTweets + 1\n",
    "                  download_progress_hook(tweet_count, totalSize\n",
    "                                         , successTweets, failedTweets)\n",
    "                  pass\n",
    "    successTweetsFileJson = 'binary_dataset.json'\n",
    "    with open(successTweetsFileJson, 'w') as successTweetsFileJsonHandler:\n",
    "      json.dump(tweets_downloaded, successTweetsFileJsonHandler)\n",
    "\n",
    "\n",
    "def usage():\n",
    "    print('Provide the file containing tweetIDs and labels of tweets')\n",
    "    sys.exit()\n",
    "\n",
    "def main():\n",
    "    idfile = 'binary_classes_ids.csv' #provide complete path of the file\n",
    "    if not os.path.isfile(idfile):\n",
    "        print('Not found or not a file: %s' % idfile, file=sys.stderr)\n",
    "        usage()\n",
    "\n",
    "    # connect to twitter\n",
    "    auth = tweepy.OAuthHandler(CONSUMER_KEY, CONSUMER_SECRET)\n",
    "    auth.set_access_token(OAUTH_TOKEN, OAUTH_TOKEN_SECRET)\n",
    "    api = tweepy.API(auth)\n",
    "    \n",
    "    # hydrate tweet IDs\n",
    "    get_tweets_single(api, idfile)\n",
    "    send = Sending_email_Cls()\n",
    "    subject_email = \"Notification: Downloading tweets\\' Task.\"\n",
    "    body_email = \"Running task of downloading has been completed. please visit your Lab.\"\n",
    "    send.login_to_email()\n",
    "    send.send_email_with_timestamp(subject_email, body_email)\n",
    "    print(\"\\nScript Completed:\")\n",
    "\n",
    "if __name__ == '__main__':\n",
    "    main()\n"
   ]
  },
  {
   "cell_type": "code",
   "execution_count": 13,
   "metadata": {},
   "outputs": [],
   "source": [
    "idfilepath =  'binary_classes_ids.tsv'\n",
    "with open(idfilepath, 'r') as idfile,  open('binary_classes_ids.csv', 'wt') as fcsv:\n",
    "    # Dataset's name in which downloaded tweet-text will be saved\n",
    "    tweetWriterfcsv = csv.writer(fcsv)\n",
    "    tweetWriterfcsv.writerow(['tweetID', 'tweet-class'])\n",
    "    for line in idfile:\n",
    "#       print(line.split( ))\n",
    "        tweetWriterfcsv.writerow(line.split( ))"
   ]
  },
  {
   "cell_type": "code",
   "execution_count": 20,
   "metadata": {},
   "outputs": [],
   "source": [
    "import simplejson as json\n",
    "tweets_downloaded = {1:'test'}\n",
    "successTweetsFileJson = 'myTweet.json'\n",
    "with open(successTweetsFileJson, 'w') as successTweetsFileJsonHandler:\n",
    "  json.dump(tweets_downloaded, successTweetsFileJsonHandler)"
   ]
  },
  {
   "cell_type": "code",
   "execution_count": null,
   "metadata": {
    "collapsed": true,
    "jupyter": {
     "outputs_hidden": true
    }
   },
   "outputs": [],
   "source": [
    "import pandas as pd\n",
    "fname = 'tweet_failed_binaryCalsses.csv'\n",
    "data = pd.DataFrame\n",
    "data[data['Error-Message'].isin([\"{\"\"errors\"\":[{\"\"code\"\":63,\"\"message\"\":\"\"User has been suspended.\"\"}]}\", 'Drama', 'Action'])].head(10)"
   ]
  },
  {
   "cell_type": "code",
   "execution_count": 49,
   "metadata": {
    "scrolled": true
   },
   "outputs": [],
   "source": [
    "import pandas as pd\n",
    "fname = 'tweet_failed_binaryCalsses.csv'\n",
    "data = pd.read_csv(fname)\n",
    "\n",
    "rem = data['Error-Message'].drop_duplicates()\n",
    "rem.to_csv('error.csv')"
   ]
  },
  {
   "cell_type": "code",
   "execution_count": 48,
   "metadata": {},
   "outputs": [
    {
     "data": {
      "text/plain": [
       "count                                                   960\n",
       "unique                                                    6\n",
       "top       {\"errors\":[{\"code\":144,\"message\":\"No status fo...\n",
       "freq                                                    497\n",
       "Name: Error-Message, dtype: object"
      ]
     },
     "execution_count": 48,
     "metadata": {},
     "output_type": "execute_result"
    }
   ],
   "source": [
    "data['Error-Message'].describe()"
   ]
  }
 ],
 "metadata": {
  "kernelspec": {
   "display_name": "virEnv375",
   "language": "python",
   "name": "virenv375"
  },
  "language_info": {
   "codemirror_mode": {
    "name": "ipython",
    "version": 3
   },
   "file_extension": ".py",
   "mimetype": "text/x-python",
   "name": "python",
   "nbconvert_exporter": "python",
   "pygments_lexer": "ipython3",
   "version": "3.7.5"
  }
 },
 "nbformat": 4,
 "nbformat_minor": 4
}
